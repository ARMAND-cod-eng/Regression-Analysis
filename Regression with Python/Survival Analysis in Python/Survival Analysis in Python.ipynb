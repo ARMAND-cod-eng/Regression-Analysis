{
 "cells": [
  {
   "cell_type": "markdown",
   "id": "bf2ca06b",
   "metadata": {},
   "source": [
    "# Calculate the Kaplan-Meier Estimator in Python"
   ]
  },
  {
   "cell_type": "code",
   "execution_count": 40,
   "id": "c1444278",
   "metadata": {},
   "outputs": [
    {
     "name": "stdout",
     "output_type": "stream",
     "text": [
      "Requirement already satisfied: lifelines in c:\\users\\armand\\anaconda3\\lib\\site-packages (0.28.0)\n",
      "Requirement already satisfied: numpy<2.0,>=1.14.0 in c:\\users\\armand\\anaconda3\\lib\\site-packages (from lifelines) (1.24.3)\n",
      "Requirement already satisfied: scipy>=1.2.0 in c:\\users\\armand\\anaconda3\\lib\\site-packages (from lifelines) (1.11.1)\n",
      "Requirement already satisfied: pandas>=1.2.0 in c:\\users\\armand\\anaconda3\\lib\\site-packages (from lifelines) (2.0.3)\n",
      "Requirement already satisfied: matplotlib>=3.0 in c:\\users\\armand\\anaconda3\\lib\\site-packages (from lifelines) (3.7.2)\n",
      "Requirement already satisfied: autograd>=1.5 in c:\\users\\armand\\anaconda3\\lib\\site-packages (from lifelines) (1.6.2)\n",
      "Requirement already satisfied: autograd-gamma>=0.3 in c:\\users\\armand\\anaconda3\\lib\\site-packages (from lifelines) (0.5.0)\n",
      "Requirement already satisfied: formulaic>=0.2.2 in c:\\users\\armand\\anaconda3\\lib\\site-packages (from lifelines) (1.0.1)\n",
      "Requirement already satisfied: future>=0.15.2 in c:\\users\\armand\\anaconda3\\lib\\site-packages (from autograd>=1.5->lifelines) (0.18.3)\n",
      "Requirement already satisfied: interface-meta>=1.2.0 in c:\\users\\armand\\anaconda3\\lib\\site-packages (from formulaic>=0.2.2->lifelines) (1.3.0)\n",
      "Requirement already satisfied: typing-extensions>=4.2.0 in c:\\users\\armand\\anaconda3\\lib\\site-packages (from formulaic>=0.2.2->lifelines) (4.7.1)\n",
      "Requirement already satisfied: wrapt>=1.0 in c:\\users\\armand\\anaconda3\\lib\\site-packages (from formulaic>=0.2.2->lifelines) (1.14.1)\n",
      "Requirement already satisfied: contourpy>=1.0.1 in c:\\users\\armand\\anaconda3\\lib\\site-packages (from matplotlib>=3.0->lifelines) (1.0.5)\n",
      "Requirement already satisfied: cycler>=0.10 in c:\\users\\armand\\anaconda3\\lib\\site-packages (from matplotlib>=3.0->lifelines) (0.11.0)\n",
      "Requirement already satisfied: fonttools>=4.22.0 in c:\\users\\armand\\anaconda3\\lib\\site-packages (from matplotlib>=3.0->lifelines) (4.25.0)\n",
      "Requirement already satisfied: kiwisolver>=1.0.1 in c:\\users\\armand\\anaconda3\\lib\\site-packages (from matplotlib>=3.0->lifelines) (1.4.4)\n",
      "Requirement already satisfied: packaging>=20.0 in c:\\users\\armand\\anaconda3\\lib\\site-packages (from matplotlib>=3.0->lifelines) (23.1)\n",
      "Requirement already satisfied: pillow>=6.2.0 in c:\\users\\armand\\anaconda3\\lib\\site-packages (from matplotlib>=3.0->lifelines) (9.4.0)\n",
      "Requirement already satisfied: pyparsing<3.1,>=2.3.1 in c:\\users\\armand\\anaconda3\\lib\\site-packages (from matplotlib>=3.0->lifelines) (3.0.9)\n",
      "Requirement already satisfied: python-dateutil>=2.7 in c:\\users\\armand\\anaconda3\\lib\\site-packages (from matplotlib>=3.0->lifelines) (2.8.2)\n",
      "Requirement already satisfied: pytz>=2020.1 in c:\\users\\armand\\anaconda3\\lib\\site-packages (from pandas>=1.2.0->lifelines) (2023.3.post1)\n",
      "Requirement already satisfied: tzdata>=2022.1 in c:\\users\\armand\\anaconda3\\lib\\site-packages (from pandas>=1.2.0->lifelines) (2023.3)\n",
      "Requirement already satisfied: six>=1.5 in c:\\users\\armand\\anaconda3\\lib\\site-packages (from python-dateutil>=2.7->matplotlib>=3.0->lifelines) (1.16.0)\n",
      "Note: you may need to restart the kernel to use updated packages.\n"
     ]
    }
   ],
   "source": [
    "pip install lifelines\n"
   ]
  },
  {
   "cell_type": "markdown",
   "id": "e2df5591",
   "metadata": {},
   "source": [
    "### Import the necessary packages:"
   ]
  },
  {
   "cell_type": "code",
   "execution_count": 41,
   "id": "1979c8a9",
   "metadata": {},
   "outputs": [],
   "source": [
    "import pandas as pd\n",
    "from lifelines import KaplanMeierFitter\n",
    "from lifelines.statistics import logrank_test\n",
    "import matplotlib.pyplot as plt\n"
   ]
  },
  {
   "cell_type": "markdown",
   "id": "4bf22763",
   "metadata": {},
   "source": [
    "### Load the dataset"
   ]
  },
  {
   "cell_type": "code",
   "execution_count": 42,
   "id": "15726db6",
   "metadata": {},
   "outputs": [
    {
     "data": {
      "text/html": [
       "<div>\n",
       "<style scoped>\n",
       "    .dataframe tbody tr th:only-of-type {\n",
       "        vertical-align: middle;\n",
       "    }\n",
       "\n",
       "    .dataframe tbody tr th {\n",
       "        vertical-align: top;\n",
       "    }\n",
       "\n",
       "    .dataframe thead th {\n",
       "        text-align: right;\n",
       "    }\n",
       "</style>\n",
       "<table border=\"1\" class=\"dataframe\">\n",
       "  <thead>\n",
       "    <tr style=\"text-align: right;\">\n",
       "      <th></th>\n",
       "      <th>survival</th>\n",
       "      <th>still_alive</th>\n",
       "      <th>age_at_heart_attack</th>\n",
       "      <th>pericardial_effusion</th>\n",
       "      <th>fractional_shortening</th>\n",
       "      <th>epss</th>\n",
       "      <th>lvdd</th>\n",
       "      <th>wall_motion_score</th>\n",
       "      <th>wall_motion_index</th>\n",
       "      <th>mult</th>\n",
       "      <th>name</th>\n",
       "      <th>group</th>\n",
       "      <th>alive_at_1</th>\n",
       "    </tr>\n",
       "  </thead>\n",
       "  <tbody>\n",
       "    <tr>\n",
       "      <th>0</th>\n",
       "      <td>19</td>\n",
       "      <td>0</td>\n",
       "      <td>72</td>\n",
       "      <td>0</td>\n",
       "      <td>0.380</td>\n",
       "      <td>6</td>\n",
       "      <td>4.100</td>\n",
       "      <td>14</td>\n",
       "      <td>1.700</td>\n",
       "      <td>0.588</td>\n",
       "      <td>name</td>\n",
       "      <td>1</td>\n",
       "      <td>0</td>\n",
       "    </tr>\n",
       "    <tr>\n",
       "      <th>1</th>\n",
       "      <td>16</td>\n",
       "      <td>0</td>\n",
       "      <td>55</td>\n",
       "      <td>0</td>\n",
       "      <td>0.260</td>\n",
       "      <td>4</td>\n",
       "      <td>3.420</td>\n",
       "      <td>14</td>\n",
       "      <td>1</td>\n",
       "      <td>1</td>\n",
       "      <td>name</td>\n",
       "      <td>1</td>\n",
       "      <td>0</td>\n",
       "    </tr>\n",
       "    <tr>\n",
       "      <th>2</th>\n",
       "      <td>57</td>\n",
       "      <td>0</td>\n",
       "      <td>60</td>\n",
       "      <td>0</td>\n",
       "      <td>0.253</td>\n",
       "      <td>12.062</td>\n",
       "      <td>4.603</td>\n",
       "      <td>16</td>\n",
       "      <td>1.450</td>\n",
       "      <td>0.788</td>\n",
       "      <td>name</td>\n",
       "      <td>1</td>\n",
       "      <td>0</td>\n",
       "    </tr>\n",
       "    <tr>\n",
       "      <th>3</th>\n",
       "      <td>19</td>\n",
       "      <td>1</td>\n",
       "      <td>57</td>\n",
       "      <td>0</td>\n",
       "      <td>0.160</td>\n",
       "      <td>22</td>\n",
       "      <td>5.750</td>\n",
       "      <td>18</td>\n",
       "      <td>2.250</td>\n",
       "      <td>0.571</td>\n",
       "      <td>name</td>\n",
       "      <td>1</td>\n",
       "      <td>0</td>\n",
       "    </tr>\n",
       "    <tr>\n",
       "      <th>4</th>\n",
       "      <td>26</td>\n",
       "      <td>0</td>\n",
       "      <td>68</td>\n",
       "      <td>0</td>\n",
       "      <td>0.260</td>\n",
       "      <td>5</td>\n",
       "      <td>4.310</td>\n",
       "      <td>12</td>\n",
       "      <td>1</td>\n",
       "      <td>0.857</td>\n",
       "      <td>name</td>\n",
       "      <td>1</td>\n",
       "      <td>0</td>\n",
       "    </tr>\n",
       "  </tbody>\n",
       "</table>\n",
       "</div>"
      ],
      "text/plain": [
       "  survival  still_alive age_at_heart_attack  pericardial_effusion  \\\n",
       "0       19            0                  72                     0   \n",
       "1       16            0                  55                     0   \n",
       "2       57            0                  60                     0   \n",
       "3       19            1                  57                     0   \n",
       "4       26            0                  68                     0   \n",
       "\n",
       "  fractional_shortening    epss   lvdd wall_motion_score wall_motion_index  \\\n",
       "0                 0.380       6  4.100                14             1.700   \n",
       "1                 0.260       4  3.420                14                 1   \n",
       "2                 0.253  12.062  4.603                16             1.450   \n",
       "3                 0.160      22  5.750                18             2.250   \n",
       "4                 0.260       5  4.310                12                 1   \n",
       "\n",
       "    mult  name group alive_at_1  \n",
       "0  0.588  name     1          0  \n",
       "1      1  name     1          0  \n",
       "2  0.788  name     1          0  \n",
       "3  0.571  name     1          0  \n",
       "4  0.857  name     1          0  "
      ]
     },
     "execution_count": 42,
     "metadata": {},
     "output_type": "execute_result"
    }
   ],
   "source": [
    "data_path = \"echocardiogram.data\"\n",
    "echocardiogram_data = pd.read_csv(data_path, on_bad_lines='skip')\n",
    "# Assign column names based on the dataset description\n",
    "echocardiogram_data.columns = [\"survival\", \"still_alive\", \"age_at_heart_attack\", \"pericardial_effusion\", \n",
    "                               \"fractional_shortening\", \"epss\", \"lvdd\", \"wall_motion_score\", \n",
    "                               \"wall_motion_index\", \"mult\", \"name\", \"group\", \"alive_at_1\"]\n",
    "\n",
    "# Display the first few rows of the data\n",
    "echocardiogram_data.head()"
   ]
  },
  {
   "cell_type": "markdown",
   "id": "a54fa12c",
   "metadata": {},
   "source": [
    "### Describe the dataset"
   ]
  },
  {
   "cell_type": "code",
   "execution_count": 43,
   "id": "19d9b6f1",
   "metadata": {},
   "outputs": [
    {
     "data": {
      "text/html": [
       "<div>\n",
       "<style scoped>\n",
       "    .dataframe tbody tr th:only-of-type {\n",
       "        vertical-align: middle;\n",
       "    }\n",
       "\n",
       "    .dataframe tbody tr th {\n",
       "        vertical-align: top;\n",
       "    }\n",
       "\n",
       "    .dataframe thead th {\n",
       "        text-align: right;\n",
       "    }\n",
       "</style>\n",
       "<table border=\"1\" class=\"dataframe\">\n",
       "  <thead>\n",
       "    <tr style=\"text-align: right;\">\n",
       "      <th></th>\n",
       "      <th>still_alive</th>\n",
       "      <th>pericardial_effusion</th>\n",
       "    </tr>\n",
       "  </thead>\n",
       "  <tbody>\n",
       "    <tr>\n",
       "      <th>count</th>\n",
       "      <td>130.000000</td>\n",
       "      <td>130.000000</td>\n",
       "    </tr>\n",
       "    <tr>\n",
       "      <th>mean</th>\n",
       "      <td>0.330769</td>\n",
       "      <td>0.184615</td>\n",
       "    </tr>\n",
       "    <tr>\n",
       "      <th>std</th>\n",
       "      <td>0.472310</td>\n",
       "      <td>0.389486</td>\n",
       "    </tr>\n",
       "    <tr>\n",
       "      <th>min</th>\n",
       "      <td>0.000000</td>\n",
       "      <td>0.000000</td>\n",
       "    </tr>\n",
       "    <tr>\n",
       "      <th>25%</th>\n",
       "      <td>0.000000</td>\n",
       "      <td>0.000000</td>\n",
       "    </tr>\n",
       "    <tr>\n",
       "      <th>50%</th>\n",
       "      <td>0.000000</td>\n",
       "      <td>0.000000</td>\n",
       "    </tr>\n",
       "    <tr>\n",
       "      <th>75%</th>\n",
       "      <td>1.000000</td>\n",
       "      <td>0.000000</td>\n",
       "    </tr>\n",
       "    <tr>\n",
       "      <th>max</th>\n",
       "      <td>1.000000</td>\n",
       "      <td>1.000000</td>\n",
       "    </tr>\n",
       "  </tbody>\n",
       "</table>\n",
       "</div>"
      ],
      "text/plain": [
       "       still_alive  pericardial_effusion\n",
       "count   130.000000            130.000000\n",
       "mean      0.330769              0.184615\n",
       "std       0.472310              0.389486\n",
       "min       0.000000              0.000000\n",
       "25%       0.000000              0.000000\n",
       "50%       0.000000              0.000000\n",
       "75%       1.000000              0.000000\n",
       "max       1.000000              1.000000"
      ]
     },
     "execution_count": 43,
     "metadata": {},
     "output_type": "execute_result"
    }
   ],
   "source": [
    "echocardiogram_data.describe()"
   ]
  },
  {
   "cell_type": "code",
   "execution_count": 44,
   "id": "40ec959a",
   "metadata": {},
   "outputs": [
    {
     "name": "stdout",
     "output_type": "stream",
     "text": [
      "<class 'pandas.core.frame.DataFrame'>\n",
      "RangeIndex: 130 entries, 0 to 129\n",
      "Data columns (total 13 columns):\n",
      " #   Column                 Non-Null Count  Dtype \n",
      "---  ------                 --------------  ----- \n",
      " 0   survival               130 non-null    object\n",
      " 1   still_alive            130 non-null    int64 \n",
      " 2   age_at_heart_attack    130 non-null    object\n",
      " 3   pericardial_effusion   130 non-null    int64 \n",
      " 4   fractional_shortening  130 non-null    object\n",
      " 5   epss                   130 non-null    object\n",
      " 6   lvdd                   130 non-null    object\n",
      " 7   wall_motion_score      130 non-null    object\n",
      " 8   wall_motion_index      130 non-null    object\n",
      " 9   mult                   130 non-null    object\n",
      " 10  name                   130 non-null    object\n",
      " 11  group                  130 non-null    object\n",
      " 12  alive_at_1             130 non-null    object\n",
      "dtypes: int64(2), object(11)\n",
      "memory usage: 13.3+ KB\n"
     ]
    }
   ],
   "source": [
    "echocardiogram_data.info()"
   ]
  },
  {
   "cell_type": "markdown",
   "id": "512905e8",
   "metadata": {},
   "source": [
    "### Convert object to numerical value"
   ]
  },
  {
   "cell_type": "code",
   "execution_count": 45,
   "id": "7e566562",
   "metadata": {},
   "outputs": [],
   "source": [
    "echocardiogram_data[\"survival\"] = pd.to_numeric(echocardiogram_data[\"survival\"], errors='coerce')\n",
    "\n",
    "echocardiogram_data[\"age_at_heart_attack\"] = pd.to_numeric(echocardiogram_data[\"age_at_heart_attack\"], errors='coerce')\n",
    "\n",
    "echocardiogram_data[\"fractional_shortening\"] = pd.to_numeric(echocardiogram_data[\"fractional_shortening\"], errors='coerce')\n",
    "\n",
    "echocardiogram_data[\"epss\"] = pd.to_numeric(echocardiogram_data[\"epss\"], errors='coerce')\n",
    "\n",
    "echocardiogram_data[\"lvdd\"] = pd.to_numeric(echocardiogram_data[\"lvdd\"], errors='coerce')\n",
    "\n",
    "echocardiogram_data[\"wall_motion_score\"] = pd.to_numeric(echocardiogram_data[\"wall_motion_score\"], errors='coerce')\n",
    "\n",
    "echocardiogram_data[\"wall_motion_index\"] = pd.to_numeric(echocardiogram_data[\"wall_motion_index\"], errors='coerce')\n",
    "\n",
    "echocardiogram_data[\"mult\"] = pd.to_numeric(echocardiogram_data[\"mult\"], errors='coerce')\n",
    "\n",
    "echocardiogram_data[\"group\"] = pd.to_numeric(echocardiogram_data[\"group\"], errors='coerce')\n",
    "\n",
    "echocardiogram_data[\"alive_at_1\"] = pd.to_numeric(echocardiogram_data[\"alive_at_1\"], errors='coerce')"
   ]
  },
  {
   "cell_type": "code",
   "execution_count": 46,
   "id": "02872e84",
   "metadata": {},
   "outputs": [
    {
     "name": "stdout",
     "output_type": "stream",
     "text": [
      "<class 'pandas.core.frame.DataFrame'>\n",
      "RangeIndex: 130 entries, 0 to 129\n",
      "Data columns (total 13 columns):\n",
      " #   Column                 Non-Null Count  Dtype  \n",
      "---  ------                 --------------  -----  \n",
      " 0   survival               129 non-null    float64\n",
      " 1   still_alive            130 non-null    int64  \n",
      " 2   age_at_heart_attack    125 non-null    float64\n",
      " 3   pericardial_effusion   130 non-null    int64  \n",
      " 4   fractional_shortening  123 non-null    float64\n",
      " 5   epss                   116 non-null    float64\n",
      " 6   lvdd                   120 non-null    float64\n",
      " 7   wall_motion_score      127 non-null    float64\n",
      " 8   wall_motion_index      129 non-null    float64\n",
      " 9   mult                   127 non-null    float64\n",
      " 10  name                   130 non-null    object \n",
      " 11  group                  108 non-null    float64\n",
      " 12  alive_at_1             73 non-null     float64\n",
      "dtypes: float64(10), int64(2), object(1)\n",
      "memory usage: 13.3+ KB\n"
     ]
    }
   ],
   "source": [
    "echocardiogram_data.info()"
   ]
  },
  {
   "cell_type": "markdown",
   "id": "7d5bece5",
   "metadata": {},
   "source": [
    "### Data cleaning"
   ]
  },
  {
   "cell_type": "code",
   "execution_count": 47,
   "id": "05639592",
   "metadata": {},
   "outputs": [],
   "source": [
    "# Remove rows with any missing values\n",
    "echocardiogram_data = echocardiogram_data.dropna()"
   ]
  },
  {
   "cell_type": "markdown",
   "id": "d9278608",
   "metadata": {},
   "source": [
    "### Explore the KaplanMeierFitter and build a kmf object:"
   ]
  },
  {
   "cell_type": "code",
   "execution_count": 48,
   "id": "fe3951c1",
   "metadata": {},
   "outputs": [
    {
     "name": "stdout",
     "output_type": "stream",
     "text": [
      "<lifelines.KaplanMeierFitter:\"KM_estimate\", fitted with 60 total observations, 39 right-censored observations>\n"
     ]
    }
   ],
   "source": [
    "# Create a KaplanMeierFitter object\n",
    "kmf = KaplanMeierFitter()\n",
    "\n",
    "# Fit the data\n",
    "kmf.fit(durations=echocardiogram_data[\"survival\"], event_observed=echocardiogram_data[\"still_alive\"])\n",
    "\n",
    "# Print the kmf object\n",
    "print(kmf)"
   ]
  },
  {
   "cell_type": "markdown",
   "id": "defc034c",
   "metadata": {},
   "source": [
    "### Generate a KM curve:"
   ]
  },
  {
   "cell_type": "code",
   "execution_count": 49,
   "id": "f70846ac",
   "metadata": {},
   "outputs": [
    {
     "data": {
      "image/png": "[encoded data removed]",
      "text/plain": [
       "<Figure size 640x480 with 1 Axes>"
      ]
     },
     "metadata": {},
     "output_type": "display_data"
    }
   ],
   "source": [
    "# Plot the KM curve\n",
    "kmf.plot_survival_function()\n",
    "plt.title('Kaplan-Meier Survival Curve')\n",
    "plt.xlabel('Time')\n",
    "plt.ylabel('Survival Probability')\n",
    "plt.show()"
   ]
  },
  {
   "cell_type": "markdown",
   "id": "5c216557",
   "metadata": {},
   "source": [
    "#### Interpretation:\n",
    "\n",
    "- X-axis (Time):\n",
    "\n",
    "    The x-axis represents time, which could be in days, months, years, or any other unit of time relevant to the study.\n",
    "    \n",
    "\n",
    "- Y-axis (Survival Probability):\n",
    "\n",
    "    The y-axis represents the probability of survival. It ranges from 0 to 1, where 1 indicates 100% survival probability and 0 indicates 0% survival probability.\n",
    "\n",
    "\n",
    "- Survival Curve :\n",
    "\n",
    "    The curve is a step function that decreases over time. \n",
    "    \n",
    "    \n",
    "- Interpreting the curve :\n",
    "\n",
    "    Start of curve: At time zero, the probability of survival is 1, meaning that all subjects are alive.\n",
    "\n",
    "    Downward steps: each downward step occurs at the time of an event. The size of the step is proportional to the number of events occurring at that time compared with the number of subjects at risk just before that time.\n",
    "\n",
    "    Flat segments: These segments indicate periods when no events have occurred and the probability of survival remains constant.\n",
    "\n",
    "    End of curve: As time passes, the curve descends, indicating decreasing survival probabilities. \n",
    "\n"
   ]
  },
  {
   "cell_type": "markdown",
   "id": "7fc00417",
   "metadata": {},
   "source": [
    "### Generate K-M Curves with the Predictor:"
   ]
  },
  {
   "cell_type": "markdown",
   "id": "ed6a4784",
   "metadata": {},
   "source": [
    "####  Stratify the analysis into standard vs. experimental using fit method with strata parameter."
   ]
  },
  {
   "cell_type": "code",
   "execution_count": 50,
   "id": "7b21ecd9",
   "metadata": {},
   "outputs": [
    {
     "data": {
      "text/plain": [
       "<lifelines.KaplanMeierFitter:\"KM_estimate\", fitted with 8 total observations, 3 right-censored observations>"
      ]
     },
     "execution_count": 50,
     "metadata": {},
     "output_type": "execute_result"
    }
   ],
   "source": [
    "# Stratify the analysis by age group\n",
    "def age_group(age):\n",
    "    if 35 <= age <= 60:\n",
    "        return '35 to 60'\n",
    "    elif 61 <= age <= 75:\n",
    "        return '61 to 75'\n",
    "    elif 76 <= age <= 100:\n",
    "        return '76 to 100'\n",
    "    else:\n",
    "        return 'Other'\n",
    "\n",
    "echocardiogram_data['age_group'] = echocardiogram_data['age_at_heart_attack'].apply(age_group)\n",
    "\n",
    "# Ensure that we only analyze the three age groups of interest\n",
    "filtered_data = echocardiogram_data[echocardiogram_data['age_group'].isin(['35 to 60', '61 to 75', '76 to 100'])]\n",
    "\n",
    "# Fit the KM curve for each group\n",
    "kmf_35_to_60 = KaplanMeierFitter()\n",
    "kmf_61_to_75 = KaplanMeierFitter()\n",
    "kmf_76_to_100 = KaplanMeierFitter()\n",
    "\n",
    "kmf_35_to_60.fit(durations=filtered_data[filtered_data['age_group'] == '35 to 60']['survival'],\n",
    "                 event_observed=filtered_data[filtered_data['age_group'] == '35 to 60']['still_alive'])\n",
    "kmf_61_to_75.fit(durations=filtered_data[filtered_data['age_group'] == '61 to 75']['survival'],\n",
    "                 event_observed=filtered_data[filtered_data['age_group'] == '61 to 75']['still_alive'])\n",
    "kmf_76_to_100.fit(durations=filtered_data[filtered_data['age_group'] == '76 to 100']['survival'],\n",
    "                  event_observed=filtered_data[filtered_data['age_group'] == '76 to 100']['still_alive'])\n",
    "\n"
   ]
  },
  {
   "cell_type": "markdown",
   "id": "a518d4ff",
   "metadata": {},
   "source": [
    "#### Plot the KM curves"
   ]
  },
  {
   "cell_type": "code",
   "execution_count": 51,
   "id": "83caa2d2",
   "metadata": {},
   "outputs": [
    {
     "data": {
      "image/png": "[encoded data removed]",
      "text/plain": [
       "<Figure size 640x480 with 1 Axes>"
      ]
     },
     "metadata": {},
     "output_type": "display_data"
    }
   ],
   "source": [
    "# Plot the KM curves\n",
    "ax = kmf_35_to_60.plot_survival_function()\n",
    "kmf_61_to_75.plot_survival_function(ax=ax)\n",
    "kmf_76_to_100.plot_survival_function(ax=ax)\n",
    "plt.title('Kaplan-Meier Survival Curve by Age Group')\n",
    "plt.xlabel('Time')\n",
    "plt.ylabel('Survival Probability')\n",
    "plt.legend(['35 to 60', '61 to 75', '76 to 100'])\n",
    "plt.show()"
   ]
  },
  {
   "cell_type": "code",
   "execution_count": null,
   "id": "5b1e8f46",
   "metadata": {},
   "outputs": [],
   "source": []
  },
  {
   "cell_type": "markdown",
   "id": "c494b871",
   "metadata": {},
   "source": [
    "### Perform Log-Rank Analysis:"
   ]
  },
  {
   "cell_type": "code",
   "execution_count": 53,
   "id": "0a7b7c04",
   "metadata": {},
   "outputs": [
    {
     "name": "stdout",
     "output_type": "stream",
     "text": [
      "Log-rank test: 35 to 60 vs 61 to 75\n"
     ]
    },
    {
     "data": {
      "text/html": [
       "<div>\n",
       "<style scoped>\n",
       "    .dataframe tbody tr th:only-of-type {\n",
       "        vertical-align: middle;\n",
       "    }\n",
       "\n",
       "    .dataframe tbody tr th {\n",
       "        vertical-align: top;\n",
       "    }\n",
       "\n",
       "    .dataframe thead th {\n",
       "        text-align: right;\n",
       "    }\n",
       "</style>\n",
       "<table border=\"1\" class=\"dataframe\">\n",
       "  <tbody>\n",
       "    <tr>\n",
       "      <th>t_0</th>\n",
       "      <td>-1</td>\n",
       "    </tr>\n",
       "    <tr>\n",
       "      <th>null_distribution</th>\n",
       "      <td>chi squared</td>\n",
       "    </tr>\n",
       "    <tr>\n",
       "      <th>degrees_of_freedom</th>\n",
       "      <td>1</td>\n",
       "    </tr>\n",
       "    <tr>\n",
       "      <th>test_name</th>\n",
       "      <td>logrank_test</td>\n",
       "    </tr>\n",
       "  </tbody>\n",
       "</table>\n",
       "</div><table border=\"1\" class=\"dataframe\">\n",
       "  <thead>\n",
       "    <tr style=\"text-align: right;\">\n",
       "      <th></th>\n",
       "      <th>test_statistic</th>\n",
       "      <th>p</th>\n",
       "      <th>-log2(p)</th>\n",
       "    </tr>\n",
       "  </thead>\n",
       "  <tbody>\n",
       "    <tr>\n",
       "      <th>0</th>\n",
       "      <td>5.30</td>\n",
       "      <td>0.02</td>\n",
       "      <td>5.55</td>\n",
       "    </tr>\n",
       "  </tbody>\n",
       "</table>"
      ],
      "text/latex": [
       "\\begin{tabular}{lrrr}\n",
       " & test_statistic & p & -log2(p) \\\\\n",
       "0 & 5.30 & 0.02 & 5.55 \\\\\n",
       "\\end{tabular}\n"
      ],
      "text/plain": [
       "<lifelines.StatisticalResult: logrank_test>\n",
       "               t_0 = -1\n",
       " null_distribution = chi squared\n",
       "degrees_of_freedom = 1\n",
       "         test_name = logrank_test\n",
       "\n",
       "---\n",
       " test_statistic    p  -log2(p)\n",
       "           5.30 0.02      5.55"
      ]
     },
     "metadata": {},
     "output_type": "display_data"
    },
    {
     "name": "stdout",
     "output_type": "stream",
     "text": [
      "\n",
      "Log-rank test: 35 to 60 vs 76 to 100\n"
     ]
    },
    {
     "data": {
      "text/html": [
       "<div>\n",
       "<style scoped>\n",
       "    .dataframe tbody tr th:only-of-type {\n",
       "        vertical-align: middle;\n",
       "    }\n",
       "\n",
       "    .dataframe tbody tr th {\n",
       "        vertical-align: top;\n",
       "    }\n",
       "\n",
       "    .dataframe thead th {\n",
       "        text-align: right;\n",
       "    }\n",
       "</style>\n",
       "<table border=\"1\" class=\"dataframe\">\n",
       "  <tbody>\n",
       "    <tr>\n",
       "      <th>t_0</th>\n",
       "      <td>-1</td>\n",
       "    </tr>\n",
       "    <tr>\n",
       "      <th>null_distribution</th>\n",
       "      <td>chi squared</td>\n",
       "    </tr>\n",
       "    <tr>\n",
       "      <th>degrees_of_freedom</th>\n",
       "      <td>1</td>\n",
       "    </tr>\n",
       "    <tr>\n",
       "      <th>test_name</th>\n",
       "      <td>logrank_test</td>\n",
       "    </tr>\n",
       "  </tbody>\n",
       "</table>\n",
       "</div><table border=\"1\" class=\"dataframe\">\n",
       "  <thead>\n",
       "    <tr style=\"text-align: right;\">\n",
       "      <th></th>\n",
       "      <th>test_statistic</th>\n",
       "      <th>p</th>\n",
       "      <th>-log2(p)</th>\n",
       "    </tr>\n",
       "  </thead>\n",
       "  <tbody>\n",
       "    <tr>\n",
       "      <th>0</th>\n",
       "      <td>9.12</td>\n",
       "      <td>&lt;0.005</td>\n",
       "      <td>8.63</td>\n",
       "    </tr>\n",
       "  </tbody>\n",
       "</table>"
      ],
      "text/latex": [
       "\\begin{tabular}{lrrr}\n",
       " & test_statistic & p & -log2(p) \\\\\n",
       "0 & 9.12 & 0.00 & 8.63 \\\\\n",
       "\\end{tabular}\n"
      ],
      "text/plain": [
       "<lifelines.StatisticalResult: logrank_test>\n",
       "               t_0 = -1\n",
       " null_distribution = chi squared\n",
       "degrees_of_freedom = 1\n",
       "         test_name = logrank_test\n",
       "\n",
       "---\n",
       " test_statistic      p  -log2(p)\n",
       "           9.12 <0.005      8.63"
      ]
     },
     "metadata": {},
     "output_type": "display_data"
    },
    {
     "name": "stdout",
     "output_type": "stream",
     "text": [
      "\n",
      "Log-rank test: 61 to 75 vs 76 to 100\n"
     ]
    },
    {
     "data": {
      "text/html": [
       "<div>\n",
       "<style scoped>\n",
       "    .dataframe tbody tr th:only-of-type {\n",
       "        vertical-align: middle;\n",
       "    }\n",
       "\n",
       "    .dataframe tbody tr th {\n",
       "        vertical-align: top;\n",
       "    }\n",
       "\n",
       "    .dataframe thead th {\n",
       "        text-align: right;\n",
       "    }\n",
       "</style>\n",
       "<table border=\"1\" class=\"dataframe\">\n",
       "  <tbody>\n",
       "    <tr>\n",
       "      <th>t_0</th>\n",
       "      <td>-1</td>\n",
       "    </tr>\n",
       "    <tr>\n",
       "      <th>null_distribution</th>\n",
       "      <td>chi squared</td>\n",
       "    </tr>\n",
       "    <tr>\n",
       "      <th>degrees_of_freedom</th>\n",
       "      <td>1</td>\n",
       "    </tr>\n",
       "    <tr>\n",
       "      <th>test_name</th>\n",
       "      <td>logrank_test</td>\n",
       "    </tr>\n",
       "  </tbody>\n",
       "</table>\n",
       "</div><table border=\"1\" class=\"dataframe\">\n",
       "  <thead>\n",
       "    <tr style=\"text-align: right;\">\n",
       "      <th></th>\n",
       "      <th>test_statistic</th>\n",
       "      <th>p</th>\n",
       "      <th>-log2(p)</th>\n",
       "    </tr>\n",
       "  </thead>\n",
       "  <tbody>\n",
       "    <tr>\n",
       "      <th>0</th>\n",
       "      <td>0.96</td>\n",
       "      <td>0.33</td>\n",
       "      <td>1.61</td>\n",
       "    </tr>\n",
       "  </tbody>\n",
       "</table>"
      ],
      "text/latex": [
       "\\begin{tabular}{lrrr}\n",
       " & test_statistic & p & -log2(p) \\\\\n",
       "0 & 0.96 & 0.33 & 1.61 \\\\\n",
       "\\end{tabular}\n"
      ],
      "text/plain": [
       "<lifelines.StatisticalResult: logrank_test>\n",
       "               t_0 = -1\n",
       " null_distribution = chi squared\n",
       "degrees_of_freedom = 1\n",
       "         test_name = logrank_test\n",
       "\n",
       "---\n",
       " test_statistic    p  -log2(p)\n",
       "           0.96 0.33      1.61"
      ]
     },
     "metadata": {},
     "output_type": "display_data"
    }
   ],
   "source": [
    "\n",
    "# Perform log-rank test for pairwise comparisons\n",
    "results_35_to_60_vs_61_to_75 = logrank_test(\n",
    "    durations_A=filtered_data[filtered_data['age_group'] == '35 to 60']['survival'],\n",
    "    durations_B=filtered_data[filtered_data['age_group'] == '61 to 75']['survival'],\n",
    "    event_observed_A=filtered_data[filtered_data['age_group'] == '35 to 60']['still_alive'],\n",
    "    event_observed_B=filtered_data[filtered_data['age_group'] == '61 to 75']['still_alive']\n",
    ")\n",
    "\n",
    "results_35_to_60_vs_76_to_100 = logrank_test(\n",
    "    durations_A=filtered_data[filtered_data['age_group'] == '35 to 60']['survival'],\n",
    "    durations_B=filtered_data[filtered_data['age_group'] == '76 to 100']['survival'],\n",
    "    event_observed_A=filtered_data[filtered_data['age_group'] == '35 to 60']['still_alive'],\n",
    "    event_observed_B=filtered_data[filtered_data['age_group'] == '76 to 100']['still_alive']\n",
    ")\n",
    "\n",
    "results_61_to_75_vs_76_to_100 = logrank_test(\n",
    "    durations_A=filtered_data[filtered_data['age_group'] == '61 to 75']['survival'],\n",
    "    durations_B=filtered_data[filtered_data['age_group'] == '76 to 100']['survival'],\n",
    "    event_observed_A=filtered_data[filtered_data['age_group'] == '61 to 75']['still_alive'],\n",
    "    event_observed_B=filtered_data[filtered_data['age_group'] == '76 to 100']['still_alive']\n",
    ")\n",
    "\n",
    "# Examine and interpret the log-rank test results\n",
    "print(\"Log-rank test: 35 to 60 vs 61 to 75\")\n",
    "results_35_to_60_vs_61_to_75.print_summary()\n",
    "\n",
    "print(\"\\nLog-rank test: 35 to 60 vs 76 to 100\")\n",
    "results_35_to_60_vs_76_to_100.print_summary()\n",
    "\n",
    "print(\"\\nLog-rank test: 61 to 75 vs 76 to 100\")\n",
    "results_61_to_75_vs_76_to_100.print_summary()"
   ]
  },
  {
   "cell_type": "markdown",
   "id": "89aacb3d",
   "metadata": {},
   "source": [
    "#### Interpretation:\n",
    "\n",
    "- 35 to 60 vs 61 to 75: \n",
    "\n",
    "    Test Statistic: 5.30\n",
    "    \n",
    "    p-value: 0.02 \n",
    "The p-value (0.02) is lower than the significance level of 0.05. This indicates strong evidence to reject the null hypothesis that the survival distributions of the 35 to 60 and 61 to 75 age groups are the same. \n",
    "\n",
    "- 35 to 60 vs 76 to 100\n",
    "\n",
    "    Test Statistic: 9.12\n",
    "    \n",
    "    p-value: 0.005 \n",
    "The p-value (0.005) is lower than the significance level of 0.05. This indicates strong evidence to reject the null hypothesis that the survival distributions of the 35 to 60 and 76 to 100 age groups are the same. \n",
    "\n",
    "- 61 to 75 vs 76 to 100\n",
    "\n",
    "    Test Statistic: 0.96\n",
    "    \n",
    "    p-value: 0.33\n",
    "    \n",
    "The p-value (0.33) is above the common significance level of 0.05. This indicates that there is not enough evidence to reject the null hypothesis that the survival distributions of the 61 to 75 and 76 to 100 age groups are the same.\n",
    "\n",
    "\n"
   ]
  },
  {
   "cell_type": "markdown",
   "id": "a1d3c434",
   "metadata": {},
   "source": [
    "#### Answer to a formulated question\n",
    "\n",
    "Formulated question: How does age affect the probability of survival of patients after a heart attack?\n",
    "\n",
    "Answer: On the basis of the Kaplan-Meier analysis and the log-rank test, we can conclude that there is a significant difference in survival probabilities between the two age groups. These results suggest that the survival probabilities differ significantly between the youngest age group (35 to 60) and the middle age group (61 to 75), and between the youngest age group (35 to 60) and the oldest age group (76 to 100). However, there is no significant difference in survival probabilities between the middle (61 to 75) and oldest (76 to 100) age groups.\n"
   ]
  },
  {
   "cell_type": "code",
   "execution_count": null,
   "id": "46d76537",
   "metadata": {},
   "outputs": [],
   "source": []
  }
 ],
 "metadata": {
  "kernelspec": {
   "display_name": "Python 3 (ipykernel)",
   "language": "python",
   "name": "python3"
  },
  "language_info": {
   "codemirror_mode": {
    "name": "ipython",
    "version": 3
   },
   "file_extension": ".py",
   "mimetype": "text/x-python",
   "name": "python",
   "nbconvert_exporter": "python",
   "pygments_lexer": "ipython3",
   "version": "3.11.5"
  }
 },
 "nbformat": 4,
 "nbformat_minor": 5
}
